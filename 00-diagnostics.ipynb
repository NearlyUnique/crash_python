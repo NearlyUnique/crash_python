{
 "cells": [
  {
   "cell_type": "code",
   "execution_count": 2,
   "metadata": {},
   "outputs": [
    {
     "name": "stdout",
     "output_type": "stream",
     "text": [
      "---PATH\n",
      "/bin:/home/adams/.local/bin:/home/adams/.vscode-server/bin/dc96b837cf6bb4af9cd736aa3af08cf8279f7685/bin/remote-cli:/usr/local/go/bin:/home/adams/.local/bin:/home/adams/.nvm/versions/node/v20.12.2/bin:/usr/local/sbin:/usr/local/bin:/usr/sbin:/usr/bin:/sbin:/bin:/usr/games:/usr/local/games:/usr/lib/wsl/lib:/mnt/c/WINDOWS/system32:/mnt/c/WINDOWS:/mnt/c/WINDOWS/System32/Wbem:/mnt/c/WINDOWS/System32/WindowsPowerShell/v1.0/:/mnt/c/WINDOWS/System32/OpenSSH/:/mnt/c/utils/gow/bin:/mnt/c/Program Files/Git/cmd:/mnt/c/utils:/mnt/c/Program Files/dotnet/:/mnt/c/Program Files/Meld/:/mnt/c/Program Files (x86)/GitExtensions/:/mnt/c/Program Files/Go/bin:/mnt/c/Users/Adam/scoop/apps/gsudo/current:/mnt/c/Users/Adam/scoop/shims:/mnt/c/Users/Adam/AppData/Local/Microsoft/WindowsApps:/mnt/c/Users/Adam/AppData/Local/Programs/Microsoft VS Code/bin:/mnt/c/Users/Adam/go/bin:/mnt/c/Program Files/Graphviz/bin:/mnt/c/utils/adr-tools-3.0.0/src:/mnt/c/Users/Adam/AppData/Local/JetBrains/Toolbox/scripts:/mnt/c/Users/Adam/go/bin:/mnt/c/Users/Adam/AppData/Local/Microsoft/WindowsApps:/mnt/c/Users/Adam/.dotnet/tools:/mnt/c/Users/Adam/AppData/Local/Keybase/:/mnt/c/Users/Adam/go/bin:/snap/bin:/home/adams/.dotnet/tools:/home/adams/.fzf/bin:/home/adams/.vscode-server/bin/dc96b837cf6bb4af9cd736aa3af08cf8279f7685/bin/remote-cli:/usr/local/go/bin:/home/adams/.local/bin:/home/adams/.nvm/versions/node/v20.12.2/bin:/usr/local/sbin:/usr/local/bin:/usr/sbin:/usr/bin:/sbin:/bin:/usr/games:/usr/local/games:/usr/lib/wsl/lib:/mnt/c/WINDOWS/system32:/mnt/c/WINDOWS:/mnt/c/WINDOWS/System32/Wbem:/mnt/c/WINDOWS/System32/WindowsPowerShell/v1.0/:/mnt/c/WINDOWS/System32/OpenSSH/:/mnt/c/utils/gow/bin:/mnt/c/Program Files/Git/cmd:/mnt/c/utils:/mnt/c/Program Files/dotnet/:/mnt/c/Program Files/Meld/:/mnt/c/Program Files (x86)/GitExtensions/:/mnt/c/Program Files/Go/bin:/mnt/c/Users/Adam/scoop/apps/gsudo/current:/mnt/c/Users/Adam/scoop/shims:/mnt/c/Users/Adam/AppData/Local/Microsoft/WindowsApps:/mnt/c/Users/Adam/AppData/Local/Programs/Microsoft VS Code/bin:/mnt/c/Users/Adam/go/bin:/mnt/c/Program Files/Graphviz/bin:/mnt/c/utils/adr-tools-3.0.0/src:/mnt/c/Users/Adam/AppData/Local/JetBrains/Toolbox/scripts:/mnt/c/Users/Adam/go/bin:/mnt/c/Users/Adam/AppData/Local/Microsoft/WindowsApps:/mnt/c/Users/Adam/.dotnet/tools:/mnt/c/Users/Adam/AppData/Local/Keybase/:/mnt/c/Users/Adam/go/bin:/snap/bin:/home/adams/.dotnet/tools:/home/adams/.fzf/bin\n"
     ]
    },
    {
     "name": "stdout",
     "output_type": "stream",
     "text": [
      "---type python3\n",
      "python3 is /bin/python3\n",
      "python3 is /usr/bin/python3\n",
      "python3 is /bin/python3\n",
      "python3 is /usr/bin/python3\n",
      "python3 is /bin/python3\n",
      "---which jupyter\n",
      "/home/adams/.local/bin/jupyter\n",
      "---sys.exe\n"
     ]
    },
    {
     "ename": "NameError",
     "evalue": "name 'sys' is not defined",
     "output_type": "error",
     "traceback": [
      "\u001b[0;31m---------------------------------------------------------------------------\u001b[0m",
      "\u001b[0;31mNameError\u001b[0m                                 Traceback (most recent call last)",
      "Cell \u001b[0;32mIn[2], line 8\u001b[0m\n\u001b[1;32m      6\u001b[0m get_ipython()\u001b[38;5;241m.\u001b[39msystem(\u001b[38;5;124m'\u001b[39m\u001b[38;5;124mwhich jupyter\u001b[39m\u001b[38;5;124m'\u001b[39m)\n\u001b[1;32m      7\u001b[0m \u001b[38;5;28mprint\u001b[39m(\u001b[38;5;124m\"\u001b[39m\u001b[38;5;124m---sys.exe\u001b[39m\u001b[38;5;124m\"\u001b[39m)\n\u001b[0;32m----> 8\u001b[0m \u001b[43msys\u001b[49m\u001b[38;5;241m.\u001b[39mexecutable\n\u001b[1;32m      9\u001b[0m \u001b[38;5;28mprint\u001b[39m(\u001b[38;5;124m\"\u001b[39m\u001b[38;5;124m---python\u001b[39m\u001b[38;5;124m\"\u001b[39m)\n\u001b[1;32m     10\u001b[0m \u001b[38;5;28;01mimport\u001b[39;00m \u001b[38;5;21;01msys\u001b[39;00m\n",
      "\u001b[0;31mNameError\u001b[0m: name 'sys' is not defined"
     ]
    }
   ],
   "source": [
    "print(\"---PATH\")\n",
    "!echo $PATH\n",
    "print(\"---type python3\")\n",
    "!type -a python3\n",
    "print(\"---which jupyter\")\n",
    "!which jupyter\n",
    "print(\"---sys.exe\")\n",
    "sys.executable\n",
    "print(\"---python\")\n",
    "import sys\n",
    "import os\n",
    "\n",
    "for p in sys.path:\n",
    "    if p:\n",
    "        print(p)\n",
    "print(f\"pwd {os.getcwd()}\")"
   ]
  }
 ],
 "metadata": {
  "kernelspec": {
   "display_name": "Python 3",
   "language": "python",
   "name": "python3"
  },
  "language_info": {
   "codemirror_mode": {
    "name": "ipython",
    "version": 3
   },
   "file_extension": ".py",
   "mimetype": "text/x-python",
   "name": "python",
   "nbconvert_exporter": "python",
   "pygments_lexer": "ipython3",
   "version": "3.10.12"
  }
 },
 "nbformat": 4,
 "nbformat_minor": 2
}

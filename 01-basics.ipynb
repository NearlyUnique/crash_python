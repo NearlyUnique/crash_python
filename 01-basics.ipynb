{
 "cells": [
  {
   "cell_type": "markdown",
   "metadata": {},
   "source": [
    "# Python Basics\n",
    "\n",
    "* maths\n",
    "* strings\n",
    "* conditions\n",
    "* loops"
   ]
  },
  {
   "cell_type": "code",
   "execution_count": 2,
   "metadata": {},
   "outputs": [
    {
     "name": "stdout",
     "output_type": "stream",
     "text": [
      "1 - 2\n",
      "addition 3\n",
      "subtraction -21\n",
      "multiplication 42\n",
      "division 3.3333333333333335\n",
      "modulus (remainder) 10 % 5 = 0, 10 % 3 = 1\n",
      "brackets are important (8 + 4) / 3 = 4.0\n",
      "brackets are important 8 + 4 / 3 = 9.333333333333334\n",
      "inline =  3.33\n",
      "format function 3.3333\n",
      "200\n",
      "12\n"
     ]
    }
   ],
   "source": [
    "# basic maths\n",
    "print(\"{} - {}\".format(1,2))\n",
    "print(f\"addition { 1 + 2 }\")\n",
    "print(f\"subtraction { 1 - 22 }\")\n",
    "print(f\"multiplication { 6 * 7 }\")\n",
    "print(f\"division { 10 / 3 }\")\n",
    "print(f\"modulus (remainder) 10 % 5 = { 10 % 5 }, 10 % 3 = { 10 % 3 }\")\n",
    "print(f\"brackets are important (8 + 4) / 3 = { (8 + 4) / 3 }\")\n",
    "print(f\"brackets are important 8 + 4 / 3 = { 8 + 4 / 3 }\")\n",
    "# formatting, note the colon inside the curly braces {}\n",
    "print(f\"inline = { 10 / 3 : .2f}\")\n",
    "print(\"format function {:.4f}\".format(10 / 3))\n",
    "\n",
    "# use variables\n",
    "i = 10\n",
    "a = 20\n",
    "print(i * a)\n",
    "# increment i\n",
    "i = i + 1\n",
    "# or more commonly\n",
    "i += 1\n",
    "print(i)"
   ]
  },
  {
   "cell_type": "code",
   "execution_count": null,
   "metadata": {},
   "outputs": [],
   "source": [
    "# strings\n",
    "print(\"1: part 1\", \"part 2\")\n",
    "print(\"\"\"2: multiple lines\n",
    "      note this is indented\n",
    "not this one.\"\"\")\n",
    "print(\"3: specify\", \"separators and line end\", sep = \"-\", end=\"XXX\\n\") # \"\\n\" means new line, \"\\\" is the escape character\n",
    "print(\"4: \" + \"hello\" + \" \" + \"world\") # \"+\" concatenates strings\n",
    "\n",
    "text = \"the quick brown fox!\"\n",
    "print(\"5:\",text, len(text))\n",
    "# substring\n",
    "# string[start:end:step]\n",
    "print(\"6:\",text[4:9])\n",
    "x1 = 10\n",
    "x2 = len(text) - 1\n",
    "print(\"7:\",text[x1:x2])\n",
    "print(\"8:\",text[-1]) # count from the end\n",
    "# can use + and += to add string together\n",
    "message = \"hello\"\n",
    "message += \" \"\n",
    "message += \"world\"\n",
    "print(\"9:\", message)\n",
    "message += f\" mix up with 'f' {x1}, {x2} 😎\"\n",
    "print(\"10:\", message)"
   ]
  },
  {
   "cell_type": "code",
   "execution_count": null,
   "metadata": {},
   "outputs": [],
   "source": [
    "# lists\n",
    "numbers = [1,3,4,7]\n",
    "print(f\"some numbers {numbers}\")\n",
    "\n",
    "colours = ['red', 'blue', 'green']\n",
    "print(\"first item is index zero\",colours[0])\n",
    "print(\"index from the front\",colours[2])\n",
    "print(\"index from the end\", colours[-1])\n",
    "print(\"length\", len(colours))\n",
    "\n",
    "# assignment\n",
    "other = colours\n",
    "other[0] = 'orange'\n",
    "# both colours and other \"point to\" the same list\n",
    "print(f\"colours[0] = {colours[0]}\")\n",
    "print(f\"other[0] = {other[0]}\")\n",
    "\n",
    "## addition\n",
    "print(\"lists get added together and can contain any 'type'\", numbers + [\"apple\",\"banana\", True, 1.23])\n",
    "x = [1,2,3]\n",
    "x.append(99)\n",
    "print(\"add one item with append()\", x)\n",
    "x = [10,20,30]\n",
    "x.insert(2,\"this was inserted at index 2, 3rd element\")\n",
    "print(\"add one item with insert()\", x)\n"
   ]
  },
  {
   "cell_type": "code",
   "execution_count": null,
   "metadata": {},
   "outputs": [],
   "source": [
    "a = 10\n",
    "b = 20\n",
    "\n",
    "# note the trailing ':'\n",
    "\n",
    "if a < b :\n",
    "    print(\"a is less than b\")\n",
    "\n",
    "if (a + 10) == b: # note double equals to test for equality\n",
    "    print(\"we can do expressions in conditions\")\n",
    "\n",
    "if a == 9:\n",
    "    print(\"nine\")\n",
    "elif b == 11:\n",
    "    print(\"eleven\")\n",
    "else:\n",
    "    print(\"default condition\")"
   ]
  },
  {
   "cell_type": "code",
   "execution_count": null,
   "metadata": {},
   "outputs": [],
   "source": [
    "# loops using range\n",
    "for i in range(0, 4):\n",
    "    print(f\"number {i}\")\n",
    "    print(\"--- every expression in the block ---\")\n",
    "    # needs to be indented\n",
    "\n",
    "# remember lists\n",
    "x = [1,4,6]\n",
    "i = 0\n",
    "for dx in x:\n",
    "    print( f\"x[{i}] contains {dx}\")\n",
    "    i += 1\n",
    "\n",
    "for index,dx in enumerate(x):\n",
    "    print( f\"x[{index}] contains {dx}\")"
   ]
  }
 ],
 "metadata": {
  "kernelspec": {
   "display_name": "Python 3",
   "language": "python",
   "name": "python3"
  },
  "language_info": {
   "codemirror_mode": {
    "name": "ipython",
    "version": 3
   },
   "file_extension": ".py",
   "mimetype": "text/x-python",
   "name": "python",
   "nbconvert_exporter": "python",
   "pygments_lexer": "ipython3",
   "version": "3.10.12"
  }
 },
 "nbformat": 4,
 "nbformat_minor": 2
}

{
 "cells": [
  {
   "cell_type": "markdown",
   "metadata": {},
   "source": [
    "# Next level\n",
    "\n",
    "* functions\n",
    "* more loops\n",
    "* imports"
   ]
  },
  {
   "cell_type": "code",
   "execution_count": null,
   "metadata": {},
   "outputs": [],
   "source": [
    "# def (short for define)\n",
    "# a function name, python uses underscores\n",
    "# a list of parameters\n",
    "def is_even(number):\n",
    "    # a number modulus r gives no remainder if it is even\n",
    "    return number % 2 == 0\n",
    "\n",
    "def print_message(prefix, count, message):\n",
    "    # notice a string multiplied by a number repeats the string that many times.\n",
    "    # prefix * count\n",
    "    text = f\"{prefix * count} - {message}\"\n",
    "    print(f\"{text}\")\n",
    "    # note a function does not need to return anything\n",
    "\n",
    "def nothing_function():\n",
    "    # the keyword \"pass\" means do nothing\n",
    "    pass\n",
    "\n",
    "print(f\"Is 3 even? {is_even(3)}\")\n",
    "print(f\"Is 10 even? {is_even(10)}\")\n",
    "\n",
    "print_message(\">\", 3, \"learning python\")"
   ]
  },
  {
   "cell_type": "code",
   "execution_count": null,
   "metadata": {},
   "outputs": [],
   "source": [
    "# loops were in 10-basics but we can jump out of loops\n",
    "\n",
    "print(\"start script\")\n",
    "for i in range(100):\n",
    "    print(f\"----> {i} start of loop\")\n",
    "    if i % 2 == 0:\n",
    "        print(f\"--------> {i} is even\")\n",
    "        continue # skip the end of the loop\n",
    "    if i == 5:\n",
    "        print(f\"--------> {i} exit the loop\")\n",
    "        break # break out of the loop\n",
    "    print(f\"----> {i} end of loop\")\n",
    "print(\"end script\")"
   ]
  },
  {
   "cell_type": "markdown",
   "metadata": {},
   "source": [
    "You will certainly be using code other people have written. Code is arranges into \"Packages\"\n",
    "\n",
    "Some of this code is in \"the standard library\" and is already installed with Python, you just need to \"import\" it into your file.\n",
    "\n",
    "Other code is out there on the internet, for this we need to install it, then import it into our file.\n",
    "We install external packages using a command line tool call `pip`"
   ]
  },
  {
   "cell_type": "code",
   "execution_count": null,
   "metadata": {},
   "outputs": [],
   "source": [
    "# standard library\n",
    "import math      # https://docs.python.org/3/library/math.html\n",
    "import random    # https://docs.python.org/3/library/random.html\n",
    "\n",
    "r = 10\n",
    "print(\"Area of a circle, πr²\")\n",
    "area = math.pi * r * r\n",
    "print(f\"r = {r}, area = π.({r})² = {area : .3f}\") # note the float formatting\n",
    "\n",
    "print(f\"a random number {random.randint(5,20)}\")"
   ]
  },
  {
   "cell_type": "code",
   "execution_count": null,
   "metadata": {},
   "outputs": [],
   "source": [
    "# you can be quite specific with imports\n",
    "\n",
    "# only import the functions \"randint\" and \"shuffle\" functions from the \"random\" package\n",
    "from random import randint, shuffle\n",
    "# import all of the math package but give it the alias \"m\"\n",
    "import math as m\n",
    "\n",
    "# note the use of the alias m (for math)\n",
    "print(m.pi)\n",
    "# here we do not use the package name before the functions from the random\n",
    "# package because we imported them using \"from\"\n",
    "print(randint(1,5))"
   ]
  },
  {
   "cell_type": "code",
   "execution_count": null,
   "metadata": {},
   "outputs": [],
   "source": [
    "# external packages\n",
    "# first we install\n",
    "# in the command terminal we would enter\n",
    "# pip install dateparser\n",
    "\n",
    "# for Jupyter we need some faf. uncomment the next 2 lines, run it then comment them out again.\n",
    "# import sys\n",
    "# !{sys.executable} -m pip install dateparser\n",
    "\n",
    "from datetime import datetime # standard library\n",
    "import dateparser # https://github.com/scrapinghub/dateparser\n",
    "\n",
    "print(f\"Today is {datetime.now()}\")\n",
    "future_date = dateparser.parse('In two months')\n",
    "print(f\"Two months from now is {future_date}\")\n"
   ]
  },
  {
   "cell_type": "markdown",
   "metadata": {},
   "source": [
    "Now move on to `basics_imports.py`"
   ]
  }
 ],
 "metadata": {
  "kernelspec": {
   "display_name": "Python 3",
   "language": "python",
   "name": "python3"
  },
  "language_info": {
   "codemirror_mode": {
    "name": "ipython",
    "version": 3
   },
   "file_extension": ".py",
   "mimetype": "text/x-python",
   "name": "python",
   "nbconvert_exporter": "python",
   "pygments_lexer": "ipython3",
   "version": "3.11.9"
  }
 },
 "nbformat": 4,
 "nbformat_minor": 2
}

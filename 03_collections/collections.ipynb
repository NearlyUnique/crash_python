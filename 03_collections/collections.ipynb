{
 "cells": [
  {
   "cell_type": "markdown",
   "metadata": {},
   "source": [
    "We've seen lists `[]` (empty list) `[1, True, \"text\", 1.23]` literals and using `.append()` to add to the list\n",
    "\n",
    "We also have **dictionaries** (also known as maps)\n",
    "\n",
    "And finally **tuples**, which sound like they have 2 elements but really have as many as yo like and are a bit like a list but you can't change their size\n",
    "\n",
    "Finishing with mixing them all up"
   ]
  },
  {
   "cell_type": "code",
   "execution_count": null,
   "metadata": {},
   "outputs": [],
   "source": [
    "# count of favourite colours\n",
    "colours = {\n",
    "    \"red\" : 13,\n",
    "    \"blue\" : 20,\n",
    "    \"green\" : 7\n",
    "}\n",
    "# print the dict\n",
    "print(colours)\n",
    "# just list the keys\n",
    "print(colours.keys())\n",
    "\n",
    "key = \"red\"\n",
    "print(f\"get a value by 'key', in this case colours['{key}'] = {colours[key]}\")\n",
    "\n",
    "# add a new element\n",
    "colours[\"yellow\"] = 19\n",
    "print(\"added a colour\", colours)\n",
    "# set an existing value\n",
    "colours[\"red\"] = 99\n",
    "print(\"change a value\", colours)\n",
    "\n",
    "if \"red\" in colours:\n",
    "    print(\"found red\")\n",
    "if \"purple\" not in colours:\n",
    "    print(\"purple not found\")\n",
    "\n",
    "# remove the red entry\n",
    "colours.pop('red')\n",
    "print(\"red is gone\", colours)\n",
    "\n",
    "# remove everything\n",
    "colours.clear()\n",
    "print(\"all gone\", colours)"
   ]
  },
  {
   "cell_type": "code",
   "execution_count": null,
   "metadata": {},
   "outputs": [],
   "source": [
    "# Tuples are a kind of list\n",
    "#         0  1  2  3  4  5   6\n",
    "myTuple = 1, 2, 3, 5, 8, 13, 21\n",
    "print(\"the tuple:\", myTuple)\n",
    "print(\"an element at index 1:\", myTuple[1])\n",
    "# note the `\\n` for new line and `\\t` for tab\n",
    "print(\"a slice from the tuple\\n\\tindex 2 up to but not including index 5:\", myTuple[2:5])\n",
    "\n",
    "# this function returns a tuple\n",
    "def format_fruit(f):\n",
    "    return (f\"fruit is {f}.\", len(f))\n",
    "\n",
    "# can loop over a tuple\n",
    "for i in ('apple', 'banana', 'cherry'):\n",
    "    t = format_fruit(i)\n",
    "    print( t[0] )\n",
    "\n",
    "# we can deconstruct a tuple\n",
    "pet = \"dog\", \"brown\", 12\n",
    "# pet is a tuple with 3 elements\n",
    "## deconstruct the tuple getting the items in order for as many as are interesting\n",
    "(dog_name, dog_colour, age) = pet\n",
    "print(f\"name = {dog_name}\")"
   ]
  },
  {
   "cell_type": "markdown",
   "metadata": {},
   "source": [
    "I also threw in an extra new thing at the end called the **spread operator** `*` before a variable.\n",
    "\n",
    "It effectively says, pretend this list isn't a single parameter but each element in the list is a separate parameter.\n",
    "\n",
    "```python\n",
    "# a single list\n",
    "a_list = [1, 2, 3]\n",
    "# both of these do the same thing\n",
    "print(*a_list)\n",
    "print(a_list[0], a_list[1], a_list[2])\n",
    "```"
   ]
  },
  {
   "cell_type": "code",
   "execution_count": null,
   "metadata": {},
   "outputs": [],
   "source": [
    "# when we get to Excel we will have maps of lists\n",
    "\n",
    "sheet = {\n",
    "    \"Names\" : [\"Alice\", \"Bob\", \"Charles\"],\n",
    "    \"Scores\" : [12, 8, 9],\n",
    "    \"Is Good At Golf\": [True, False, True],\n",
    "}\n",
    "# sheet is a map\n",
    "# the map key is a string, the column name\n",
    "# the value in the dict is a list\n",
    "\n",
    "# data has been stored by column so we do a pivot to print it by row\n",
    "\n",
    "# print by row (the hard way)\n",
    "# headings\n",
    "for col in sheet:\n",
    "    # looping over a dict just loops over the keys\n",
    "    print(f\"{col}\", end=\"\\t\")\n",
    "print()\n",
    "# rows\n",
    "max_rows = len(sheet.keys())\n",
    "## for each row\n",
    "for row in range(0, max_rows):\n",
    "    # some where to store the row data\n",
    "    the_row = []\n",
    "    # go through all the columns in the row and get the value\n",
    "    for col in sheet:\n",
    "        the_row.append( sheet[col][row] )\n",
    "    # use the spread operator to print the row\n",
    "    print(*the_row, sep=\"\\t\")"
   ]
  }
 ],
 "metadata": {
  "kernelspec": {
   "display_name": "Python 3",
   "language": "python",
   "name": "python3"
  },
  "language_info": {
   "codemirror_mode": {
    "name": "ipython",
    "version": 3
   },
   "file_extension": ".py",
   "mimetype": "text/x-python",
   "name": "python",
   "nbconvert_exporter": "python",
   "pygments_lexer": "ipython3",
   "version": "3.10.12"
  }
 },
 "nbformat": 4,
 "nbformat_minor": 2
}

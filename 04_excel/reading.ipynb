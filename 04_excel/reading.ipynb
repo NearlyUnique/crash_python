{
 "cells": [
  {
   "cell_type": "code",
   "execution_count": 39,
   "metadata": {},
   "outputs": [
    {
     "name": "stdout",
     "output_type": "stream",
     "text": [
      "columns ['Title' 'Year' 'Genres' 'Language' 'Country' 'Content Rating' 'Duration'\n",
      " 'Aspect Ratio' 'Budget' 'Gross Earnings' 'Director' 'Actor 1' 'Actor 2'\n",
      " 'Actor 3' 'Facebook Likes - Director' 'Facebook Likes - Actor 1'\n",
      " 'Facebook Likes - Actor 2' 'Facebook Likes - Actor 3'\n",
      " 'Facebook Likes - cast Total' 'Facebook likes - Movie'\n",
      " 'Facenumber in posters' 'User Votes' 'Reviews by Users'\n",
      " 'Reviews by Crtiics' 'IMDB Score']\n",
      "sorted columns ['Actor 1', 'Actor 2', 'Actor 3', 'Aspect Ratio', 'Budget', 'Content Rating', 'Country', 'Director', 'Duration', 'Facebook Likes - Actor 1', 'Facebook Likes - Actor 2', 'Facebook Likes - Actor 3', 'Facebook Likes - Director', 'Facebook Likes - cast Total', 'Facebook likes - Movie', 'Facenumber in posters', 'Genres', 'Gross Earnings', 'IMDB Score', 'Language', 'Reviews by Crtiics', 'Reviews by Users', 'Title', 'User Votes', 'Year']\n",
      "row with .loc(row, col)\n",
      " Over the Hill to the Poorhouse \n"
     ]
    }
   ],
   "source": [
    "# uncomment these if required to install pandas and xlrd, 2 packages we will be using\n",
    "# import sys\n",
    "# !{sys.executable} -m pip install pandas xlrd\n",
    "\n",
    "import pandas as pd\n",
    "# download from https://dq-blog-files.s3.amazonaws.com/movies.xls\n",
    "excel_file = 'movies.xls'\n",
    "# optional parameters to pd.read_excel\n",
    "# sheet_name=0 can be the index or the name as a string\n",
    "# index_col=0\n",
    "movies = pd.read_excel(excel_file, sheet_name = 0)\n",
    "\n",
    "# how big is the DF?\n",
    "# print(f\"shape {movies.shape}\")\n",
    "print(f\"columns {movies.columns.values}\")\n",
    "print(f\"sorted columns {sorted(movies.columns.values)}\")\n",
    "# rows\n",
    "row = 1\n",
    "col = 0\n",
    "print(\"cell with .iloc(row, col)\\n\", movies.iloc[row, col])"
   ]
  }
 ],
 "metadata": {
  "kernelspec": {
   "display_name": "Python 3",
   "language": "python",
   "name": "python3"
  },
  "language_info": {
   "codemirror_mode": {
    "name": "ipython",
    "version": 3
   },
   "file_extension": ".py",
   "mimetype": "text/x-python",
   "name": "python",
   "nbconvert_exporter": "python",
   "pygments_lexer": "ipython3",
   "version": "3.10.12"
  }
 },
 "nbformat": 4,
 "nbformat_minor": 2
}

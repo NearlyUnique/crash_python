{
 "cells": [
  {
   "cell_type": "markdown",
   "metadata": {},
   "source": [
    "This is a notebook.\n",
    "It can contain notes like this, written in \"Markdown\"\n",
    "\n",
    "# Heading level 1\n",
    "\n",
    "**bold**, _italic_ and `monospaced`\n",
    "\n",
    "## Heading level 2\n",
    "\n",
    "* bullet 1\n",
    "* bullet 2\n",
    "\n",
    "1. numbers\n",
    "1. numbers\n",
    "\n",
    "\"code blocks\" in between triple back ticks \"`\"\n",
    "\n",
    "Click the pencil button to edit this note, click the tick when you've finished."
   ]
  },
  {
   "cell_type": "code",
   "execution_count": null,
   "metadata": {},
   "outputs": [],
   "source": [
    "# this is python code, start with '#' for a comment.\n",
    "# variables\n",
    "name = \"a string\"\n",
    "address = 'use single or double quotes'\n",
    "age = 21\n",
    "temperature = 12.23\n",
    "is_good_golfer = True # True or False, python is case sensitive\n",
    "\n",
    "# 3 different ways to print\n",
    "print(\"just some text\")\n",
    "\n",
    "print(\"just some text\", name, age)\n",
    "\n",
    "print(f\"note the f prefix outside the quotes {name} is {age}\")\n",
    "# press the \"play\" button to the in the top left corner of this code block\n",
    "# this block will executed and print the output below\n"
   ]
  }
 ],
 "metadata": {
  "kernelspec": {
   "display_name": "Python 3",
   "language": "python",
   "name": "python3"
  },
  "language_info": {
   "codemirror_mode": {
    "name": "ipython",
    "version": 3
   },
   "file_extension": ".py",
   "mimetype": "text/x-python",
   "name": "python",
   "nbconvert_exporter": "python",
   "pygments_lexer": "ipython3",
   "version": "3.11.9"
  }
 },
 "nbformat": 4,
 "nbformat_minor": 2
}
